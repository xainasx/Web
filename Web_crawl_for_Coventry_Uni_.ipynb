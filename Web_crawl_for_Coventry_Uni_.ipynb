{
  "nbformat": 4,
  "nbformat_minor": 0,
  "metadata": {
    "colab": {
      "provenance": [],
      "include_colab_link": true
    },
    "kernelspec": {
      "name": "python3",
      "display_name": "Python 3"
    },
    "language_info": {
      "name": "python"
    }
  },
  "cells": [
    {
      "cell_type": "markdown",
      "metadata": {
        "id": "view-in-github",
        "colab_type": "text"
      },
      "source": [
        "<a href=\"https://colab.research.google.com/github/xainasx/Web/blob/main/Web_crawl_for_Coventry_Uni_.ipynb\" target=\"_parent\"><img src=\"https://colab.research.google.com/assets/colab-badge.svg\" alt=\"Open In Colab\"/></a>"
      ]
    },
    {
      "cell_type": "code",
      "execution_count": 3,
      "metadata": {
        "colab": {
          "base_uri": "https://localhost:8080/"
        },
        "id": "qdXfFLqAcKDP",
        "outputId": "cd7eba02-5459-4a70-fa11-5d9a7f8158c1"
      },
      "outputs": [
        {
          "output_type": "stream",
          "name": "stdout",
          "text": [
            "Collecting schedule\n",
            "  Downloading schedule-1.2.2-py3-none-any.whl.metadata (3.8 kB)\n",
            "Downloading schedule-1.2.2-py3-none-any.whl (12 kB)\n",
            "Installing collected packages: schedule\n",
            "Successfully installed schedule-1.2.2\n"
          ]
        }
      ],
      "source": [
        "!pip install schedule\n",
        "import csv\n",
        "import os\n",
        "import pandas as pd\n",
        "import requests\n",
        "from bs4 import BeautifulSoup\n",
        "from urllib.robotparser import RobotFileParser\n",
        "from urllib.parse import urljoin\n",
        "import time\n",
        "import schedule\n",
        "import pandas as pd\n",
        "import re\n",
        "from collections import defaultdict\n",
        "from nltk.stem import SnowballStemmer"
      ]
    },
    {
      "cell_type": "code",
      "source": [
        "base = \"https://pureportal.coventry.ac.uk\"\n",
        "pub_url = urljoin(base, \"/en/organisations/research-centre-for-computational-science-and-mathematical-modell/publications/\")"
      ],
      "metadata": {
        "id": "p2yR2FPrcVef"
      },
      "execution_count": 4,
      "outputs": []
    },
    {
      "cell_type": "code",
      "source": [
        "robot = RobotFileParser()\n",
        "robot.set_url(urljoin(base, \"robots.txt\"))\n",
        "robot.read()\n",
        "delay = robot.crawl_delay(\"*\")"
      ],
      "metadata": {
        "id": "g9twJkvKeO2c"
      },
      "execution_count": 5,
      "outputs": []
    },
    {
      "cell_type": "code",
      "source": [
        "def can_crawl(url):\n",
        "    return robot.can_fetch(\"*\", url)"
      ],
      "metadata": {
        "id": "MZ72nEB9eerl"
      },
      "execution_count": 6,
      "outputs": []
    },
    {
      "cell_type": "code",
      "source": [
        "def crawl():\n",
        "    next_url = pub_url\n",
        "    data = []\n",
        "    while next_url and can_crawl(next_url):\n",
        "        response = requests.get(next_url)\n",
        "        parse = BeautifulSoup(response.text, 'html.parser')\n",
        "        for pub in parse.find_all(\"div\", class_=\"result-container\"):\n",
        "            title = pub.find(\"h3\", class_=\"title\").text\n",
        "            link = pub.find(\"a\", class_=\"link\")['href']\n",
        "            date = pub.find(\"span\", class_=\"date\").text\n",
        "            authors = [a.text for a in pub.find_all(\"a\", class_=\"link person\")]\n",
        "            data.append({'title': title, 'link': link, 'date': date, 'authors': authors})\n",
        "\n",
        "        next_page = parse.find('a', class_='nextLink', href=True)\n",
        "        next_url = urljoin(base, next_page['href']) if next_page else None\n",
        "\n",
        "    with open('publicat.csv', mode='w', newline='', encoding='utf-8') as output_file:\n",
        "        writer = csv.writer(output_file)\n",
        "        writer.writerow(['title', 'link', 'date', 'authors'])\n",
        "        for record in data:\n",
        "            writer.writerow(record.values())"
      ],
      "metadata": {
        "id": "ccpZmHyMeh7w"
      },
      "execution_count": 7,
      "outputs": []
    },
    {
      "cell_type": "code",
      "source": [
        "run = input(\"Do you want to run the crawler? Press 'Y'.\\nIf you want to schedule weekly updates, press '0'.\\n\").lower()\n",
        "if run == 'y':\n",
        "    crawl()\n",
        "if run == \"0\":\n",
        "    schedule.every().week.do(crawl)\n",
        "    while True:\n",
        "        schedule.run_pending()\n",
        "        time.sleep(delay*10)"
      ],
      "metadata": {
        "colab": {
          "base_uri": "https://localhost:8080/"
        },
        "id": "-noqPHQ7fG94",
        "outputId": "70af2c53-47c2-4946-c8b4-f032fbd9297a"
      },
      "execution_count": 8,
      "outputs": [
        {
          "name": "stdout",
          "output_type": "stream",
          "text": [
            "Do you want to run the crawler? Press 'Y'.\n",
            "If you want to schedule weekly updates, press '0'.\n",
            "y\n"
          ]
        }
      ]
    },
    {
      "cell_type": "code",
      "source": [
        "os.path.isfile('publicat.csv')"
      ],
      "metadata": {
        "colab": {
          "base_uri": "https://localhost:8080/"
        },
        "id": "bSdfuficfWeR",
        "outputId": "62a8d438-e3af-4bba-9863-30495f351dd9"
      },
      "execution_count": 9,
      "outputs": [
        {
          "output_type": "execute_result",
          "data": {
            "text/plain": [
              "True"
            ]
          },
          "metadata": {},
          "execution_count": 9
        }
      ]
    },
    {
      "cell_type": "code",
      "source": [
        "df = pd.read_csv(\"publicat.csv\")\n",
        "df.head()"
      ],
      "metadata": {
        "colab": {
          "base_uri": "https://localhost:8080/",
          "height": 53
        },
        "id": "B_py3td8iPfS",
        "outputId": "c6995806-8373-4149-c3f1-39a36199c3cb"
      },
      "execution_count": 10,
      "outputs": [
        {
          "output_type": "execute_result",
          "data": {
            "text/plain": [
              "Empty DataFrame\n",
              "Columns: [title, link, date, authors]\n",
              "Index: []"
            ],
            "text/html": [
              "\n",
              "  <div id=\"df-1f5beaf4-b298-410e-9ef0-f1043ca57c13\" class=\"colab-df-container\">\n",
              "    <div>\n",
              "<style scoped>\n",
              "    .dataframe tbody tr th:only-of-type {\n",
              "        vertical-align: middle;\n",
              "    }\n",
              "\n",
              "    .dataframe tbody tr th {\n",
              "        vertical-align: top;\n",
              "    }\n",
              "\n",
              "    .dataframe thead th {\n",
              "        text-align: right;\n",
              "    }\n",
              "</style>\n",
              "<table border=\"1\" class=\"dataframe\">\n",
              "  <thead>\n",
              "    <tr style=\"text-align: right;\">\n",
              "      <th></th>\n",
              "      <th>title</th>\n",
              "      <th>link</th>\n",
              "      <th>date</th>\n",
              "      <th>authors</th>\n",
              "    </tr>\n",
              "  </thead>\n",
              "  <tbody>\n",
              "  </tbody>\n",
              "</table>\n",
              "</div>\n",
              "    <div class=\"colab-df-buttons\">\n",
              "\n",
              "  <div class=\"colab-df-container\">\n",
              "    <button class=\"colab-df-convert\" onclick=\"convertToInteractive('df-1f5beaf4-b298-410e-9ef0-f1043ca57c13')\"\n",
              "            title=\"Convert this dataframe to an interactive table.\"\n",
              "            style=\"display:none;\">\n",
              "\n",
              "  <svg xmlns=\"http://www.w3.org/2000/svg\" height=\"24px\" viewBox=\"0 -960 960 960\">\n",
              "    <path d=\"M120-120v-720h720v720H120Zm60-500h600v-160H180v160Zm220 220h160v-160H400v160Zm0 220h160v-160H400v160ZM180-400h160v-160H180v160Zm440 0h160v-160H620v160ZM180-180h160v-160H180v160Zm440 0h160v-160H620v160Z\"/>\n",
              "  </svg>\n",
              "    </button>\n",
              "\n",
              "  <style>\n",
              "    .colab-df-container {\n",
              "      display:flex;\n",
              "      gap: 12px;\n",
              "    }\n",
              "\n",
              "    .colab-df-convert {\n",
              "      background-color: #E8F0FE;\n",
              "      border: none;\n",
              "      border-radius: 50%;\n",
              "      cursor: pointer;\n",
              "      display: none;\n",
              "      fill: #1967D2;\n",
              "      height: 32px;\n",
              "      padding: 0 0 0 0;\n",
              "      width: 32px;\n",
              "    }\n",
              "\n",
              "    .colab-df-convert:hover {\n",
              "      background-color: #E2EBFA;\n",
              "      box-shadow: 0px 1px 2px rgba(60, 64, 67, 0.3), 0px 1px 3px 1px rgba(60, 64, 67, 0.15);\n",
              "      fill: #174EA6;\n",
              "    }\n",
              "\n",
              "    .colab-df-buttons div {\n",
              "      margin-bottom: 4px;\n",
              "    }\n",
              "\n",
              "    [theme=dark] .colab-df-convert {\n",
              "      background-color: #3B4455;\n",
              "      fill: #D2E3FC;\n",
              "    }\n",
              "\n",
              "    [theme=dark] .colab-df-convert:hover {\n",
              "      background-color: #434B5C;\n",
              "      box-shadow: 0px 1px 3px 1px rgba(0, 0, 0, 0.15);\n",
              "      filter: drop-shadow(0px 1px 2px rgba(0, 0, 0, 0.3));\n",
              "      fill: #FFFFFF;\n",
              "    }\n",
              "  </style>\n",
              "\n",
              "    <script>\n",
              "      const buttonEl =\n",
              "        document.querySelector('#df-1f5beaf4-b298-410e-9ef0-f1043ca57c13 button.colab-df-convert');\n",
              "      buttonEl.style.display =\n",
              "        google.colab.kernel.accessAllowed ? 'block' : 'none';\n",
              "\n",
              "      async function convertToInteractive(key) {\n",
              "        const element = document.querySelector('#df-1f5beaf4-b298-410e-9ef0-f1043ca57c13');\n",
              "        const dataTable =\n",
              "          await google.colab.kernel.invokeFunction('convertToInteractive',\n",
              "                                                    [key], {});\n",
              "        if (!dataTable) return;\n",
              "\n",
              "        const docLinkHtml = 'Like what you see? Visit the ' +\n",
              "          '<a target=\"_blank\" href=https://colab.research.google.com/notebooks/data_table.ipynb>data table notebook</a>'\n",
              "          + ' to learn more about interactive tables.';\n",
              "        element.innerHTML = '';\n",
              "        dataTable['output_type'] = 'display_data';\n",
              "        await google.colab.output.renderOutput(dataTable, element);\n",
              "        const docLink = document.createElement('div');\n",
              "        docLink.innerHTML = docLinkHtml;\n",
              "        element.appendChild(docLink);\n",
              "      }\n",
              "    </script>\n",
              "  </div>\n",
              "\n",
              "\n",
              "    </div>\n",
              "  </div>\n"
            ],
            "application/vnd.google.colaboratory.intrinsic+json": {
              "type": "dataframe",
              "variable_name": "df",
              "repr_error": "Out of range float values are not JSON compliant: nan"
            }
          },
          "metadata": {},
          "execution_count": 10
        }
      ]
    },
    {
      "cell_type": "code",
      "source": [
        "\n",
        "# Define the preprocessing function\n",
        "def preprocess_text(text):\n",
        "    # Convert all text to lowercase\n",
        "    text = text.lower()\n",
        "    # Remove non-alphanumeric characters\n",
        "    text = re.sub(r'\\W+', ' ', text)\n",
        "    # Remove extra spaces\n",
        "    text = re.sub(r'\\s+', ' ', text.strip())\n",
        "    # Remove stop words\n",
        "    stop_words = {'a', 'an', 'and', 'are', 'as', 'at', 'be', 'by', 'for', 'from', 'has', 'he', 'in', 'is', 'it', 'its',\n",
        "                  'of', 'on', 'that', 'the', 'to', 'was', 'were', 'will', 'with'}\n",
        "    words = text.split()\n",
        "    filtered_words = [word for word in words if word not in stop_words]\n",
        "    # Stem the remaining words\n",
        "    stemmer = SnowballStemmer('english')\n",
        "    stemmed_words = [stemmer.stem(word) for word in filtered_words]\n",
        "    text = ' '.join(stemmed_words)\n",
        "    return text"
      ],
      "metadata": {
        "id": "SzKHUhCAiVEm"
      },
      "execution_count": 11,
      "outputs": []
    },
    {
      "cell_type": "code",
      "source": [
        "df['processed_title'] = df['title'].apply(preprocess_text)"
      ],
      "metadata": {
        "id": "pe_tSS8gi1ot"
      },
      "execution_count": 12,
      "outputs": []
    },
    {
      "cell_type": "code",
      "source": [
        "inverted_index = defaultdict(set)\n",
        "for i, row in df.iterrows():\n",
        "    title = row['processed_title']\n",
        "    words = title.split()\n",
        "    for word in words:\n",
        "        inverted_index[word].add(i)"
      ],
      "metadata": {
        "id": "kGNPinF1i5MK"
      },
      "execution_count": 13,
      "outputs": []
    },
    {
      "cell_type": "code",
      "source": [
        "user_query = input('Enter yoursearch input: ')\n",
        "processed_query = preprocess_text(user_query)\n",
        "\n",
        "# Search for matching documents\n",
        "matching_docs = set()\n",
        "for word in processed_query.split():\n",
        "    if word in inverted_index:\n",
        "        matching_docs.update(inverted_index[word])\n",
        "if not matching_docs:\n",
        "    print('No results found.')\n",
        "else:\n",
        "    # Display the matched documents\n",
        "    print('Matched documents:')\n",
        "    for i in matching_docs:\n",
        "        doc = df.loc[i]\n",
        "        print(f\"- {doc['title']} \\n {doc['authors']} \\n({doc['date']})\\n   {doc['link']}\")\n",
        "        print(\"--------------------------------------------------------------------------------------\")"
      ],
      "metadata": {
        "colab": {
          "base_uri": "https://localhost:8080/"
        },
        "id": "XI75rVPGi-y1",
        "outputId": "346fab29-89d2-4d57-fa01-a69f2be32814"
      },
      "execution_count": 14,
      "outputs": [
        {
          "output_type": "stream",
          "name": "stdout",
          "text": [
            "Enter yoursearch input: Python\n",
            "No results found.\n"
          ]
        }
      ]
    },
    {
      "cell_type": "code",
      "source": [],
      "metadata": {
        "id": "-qhkEPOhjElH"
      },
      "execution_count": null,
      "outputs": []
    }
  ]
}